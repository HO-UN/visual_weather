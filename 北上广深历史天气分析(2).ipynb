{
 "cells": [
  {
   "cell_type": "markdown",
   "id": "ac849db1",
   "metadata": {},
   "source": [
    "## 导入包"
   ]
  },
  {
   "cell_type": "code",
   "execution_count": 1,
   "id": "d6d1d609",
   "metadata": {},
   "outputs": [],
   "source": [
    "import csv\n",
    "import requests\n",
    "import time\n",
    "from bs4 import BeautifulSoup\n",
    "\n",
    "with open(r'.\\北上广深历史天气.csv', mode='w+', newline='', encoding='utf-8') as f:\n",
    "    csv_writer = csv.writer(f)\n",
    "    csv_writer.writerow(['城市', '日期', '最高温', '最低温', '天气', '风力风向', '空气质量指数'])\n",
    "    city_dict = {'北京': 54511, '上海': 58362, '广州': 59287, '深圳': 59493}\n",
    "    for city in city_dict:\n",
    "        #time.sleep(1000)\n",
    "        for year in range(2020, 2023):\n",
    "            for month in range(1, 13):\n",
    "                url = f'https://tianqi.2345.com/Pc/GetHistory' \\\n",
    "                      f'?areaInfo%5BareaId%5D={city_dict[city]}' \\\n",
    "                      f'&areaInfo%5BareaType%5D=2&date%5Byear%5D={year}' \\\n",
    "                      f'&date%5Bmonth%5D={month}'\n",
    "                response = requests.get(url=url)\n",
    "                json_data = response.json()\n",
    "                html_data = json_data['data']\n",
    "                page = BeautifulSoup(html_data, \"html.parser\")\n",
    "                table = page.find(\"table\", attrs={\"class\": \"history-table\"})\n",
    "                trs = table.find_all(\"tr\")\n",
    "                for it in trs[1:]:\n",
    "                    td = it.find_all('td')\n",
    "                    e1 = td[0].text  # 日期\n",
    "                    e2 = td[1].text  # 最高温\n",
    "                    e3 = td[2].text  # 最低温\n",
    "                    e4 = td[3].text  # 天气\n",
    "                    e5 = td[4].text  # 风力风向\n",
    "                    e6 = td[5].text  # 空气质量指数\n",
    "                    lst = [city, e1, e2, e3, e4, e5, e6]\n",
    "                    #print(lst)\n",
    "                    csv_writer.writerow(lst)"
   ]
  },
  {
   "cell_type": "code",
   "execution_count": 2,
   "id": "02791609",
   "metadata": {},
   "outputs": [],
   "source": [
    "# 导入包\n",
    "import numpy as np \n",
    "import pandas as pd\n",
    "import time  \n",
    "import jieba\n",
    "import datetime\n",
    "from pyecharts import options as opts\n",
    "from pyecharts.charts import *\n",
    "from pyecharts.commons.utils import JsCode\n",
    "\n",
    "\n",
    "from pyecharts.globals import CurrentConfig, NotebookType, OnlineHostType\n",
    "CurrentConfig.ONLINE_HOST = OnlineHostType.NOTEBOOK_HOST\n",
    "\n",
    "# 配置对应的环境类型\n",
    "CurrentConfig.NOTEBOOK_TYPE = NotebookType.JUPYTER_NOTEBOOK\n",
    "CurrentConfig.ONLINE_HOST='https://assets.pyecharts.org/assets/'\n"
   ]
  },
  {
   "cell_type": "markdown",
   "id": "bef668f6",
   "metadata": {},
   "source": [
    "## 读入数据"
   ]
  },
  {
   "cell_type": "code",
   "execution_count": 3,
   "id": "93227447",
   "metadata": {},
   "outputs": [
    {
     "data": {
      "text/html": [
       "<div>\n",
       "<style scoped>\n",
       "    .dataframe tbody tr th:only-of-type {\n",
       "        vertical-align: middle;\n",
       "    }\n",
       "\n",
       "    .dataframe tbody tr th {\n",
       "        vertical-align: top;\n",
       "    }\n",
       "\n",
       "    .dataframe thead th {\n",
       "        text-align: right;\n",
       "    }\n",
       "</style>\n",
       "<table border=\"1\" class=\"dataframe\">\n",
       "  <thead>\n",
       "    <tr style=\"text-align: right;\">\n",
       "      <th></th>\n",
       "      <th>城市</th>\n",
       "      <th>日期</th>\n",
       "      <th>最高温</th>\n",
       "      <th>最低温</th>\n",
       "      <th>天气</th>\n",
       "      <th>风力风向</th>\n",
       "      <th>空气质量指数</th>\n",
       "    </tr>\n",
       "  </thead>\n",
       "  <tbody>\n",
       "    <tr>\n",
       "      <th>0</th>\n",
       "      <td>北京</td>\n",
       "      <td>2020-01-01 周三</td>\n",
       "      <td>0°</td>\n",
       "      <td>-9°</td>\n",
       "      <td>晴</td>\n",
       "      <td>东北风1级</td>\n",
       "      <td>53 良</td>\n",
       "    </tr>\n",
       "    <tr>\n",
       "      <th>1</th>\n",
       "      <td>北京</td>\n",
       "      <td>2020-01-02 周四</td>\n",
       "      <td>4°</td>\n",
       "      <td>-8°</td>\n",
       "      <td>多云</td>\n",
       "      <td>西北风1级</td>\n",
       "      <td>74 良</td>\n",
       "    </tr>\n",
       "    <tr>\n",
       "      <th>2</th>\n",
       "      <td>北京</td>\n",
       "      <td>2020-01-03 周五</td>\n",
       "      <td>7°</td>\n",
       "      <td>-5°</td>\n",
       "      <td>晴</td>\n",
       "      <td>西北风1级</td>\n",
       "      <td>72 良</td>\n",
       "    </tr>\n",
       "    <tr>\n",
       "      <th>3</th>\n",
       "      <td>北京</td>\n",
       "      <td>2020-01-04 周六</td>\n",
       "      <td>9°</td>\n",
       "      <td>-5°</td>\n",
       "      <td>晴</td>\n",
       "      <td>东北风1级</td>\n",
       "      <td>59 良</td>\n",
       "    </tr>\n",
       "    <tr>\n",
       "      <th>4</th>\n",
       "      <td>北京</td>\n",
       "      <td>2020-01-05 周日</td>\n",
       "      <td>2°</td>\n",
       "      <td>-3°</td>\n",
       "      <td>阴~小雪</td>\n",
       "      <td>东北风1级</td>\n",
       "      <td>79 良</td>\n",
       "    </tr>\n",
       "    <tr>\n",
       "      <th>...</th>\n",
       "      <td>...</td>\n",
       "      <td>...</td>\n",
       "      <td>...</td>\n",
       "      <td>...</td>\n",
       "      <td>...</td>\n",
       "      <td>...</td>\n",
       "      <td>...</td>\n",
       "    </tr>\n",
       "    <tr>\n",
       "      <th>4379</th>\n",
       "      <td>深圳</td>\n",
       "      <td>2022-12-27 周二</td>\n",
       "      <td>21°</td>\n",
       "      <td>12°</td>\n",
       "      <td>晴</td>\n",
       "      <td>东风2级</td>\n",
       "      <td>-</td>\n",
       "    </tr>\n",
       "    <tr>\n",
       "      <th>4380</th>\n",
       "      <td>深圳</td>\n",
       "      <td>2022-12-28 周三</td>\n",
       "      <td>20°</td>\n",
       "      <td>10°</td>\n",
       "      <td>多云~阴</td>\n",
       "      <td>东北风2级</td>\n",
       "      <td>-</td>\n",
       "    </tr>\n",
       "    <tr>\n",
       "      <th>4381</th>\n",
       "      <td>深圳</td>\n",
       "      <td>2022-12-29 周四</td>\n",
       "      <td>17°</td>\n",
       "      <td>9°</td>\n",
       "      <td>多云~晴</td>\n",
       "      <td>东北风3级</td>\n",
       "      <td>-</td>\n",
       "    </tr>\n",
       "    <tr>\n",
       "      <th>4382</th>\n",
       "      <td>深圳</td>\n",
       "      <td>2022-12-30 周五</td>\n",
       "      <td>16°</td>\n",
       "      <td>11°</td>\n",
       "      <td>多云~晴</td>\n",
       "      <td>东北风3级</td>\n",
       "      <td>-</td>\n",
       "    </tr>\n",
       "    <tr>\n",
       "      <th>4383</th>\n",
       "      <td>深圳</td>\n",
       "      <td>2022-12-31 周六</td>\n",
       "      <td>18°</td>\n",
       "      <td>12°</td>\n",
       "      <td>晴~多云</td>\n",
       "      <td>东北风3级</td>\n",
       "      <td>46 优</td>\n",
       "    </tr>\n",
       "  </tbody>\n",
       "</table>\n",
       "<p>4384 rows × 7 columns</p>\n",
       "</div>"
      ],
      "text/plain": [
       "      城市             日期  最高温  最低温    天气   风力风向 空气质量指数\n",
       "0     北京  2020-01-01 周三   0°  -9°     晴  东北风1级   53 良\n",
       "1     北京  2020-01-02 周四   4°  -8°    多云  西北风1级   74 良\n",
       "2     北京  2020-01-03 周五   7°  -5°     晴  西北风1级   72 良\n",
       "3     北京  2020-01-04 周六   9°  -5°     晴  东北风1级   59 良\n",
       "4     北京  2020-01-05 周日   2°  -3°  阴~小雪  东北风1级   79 良\n",
       "...   ..            ...  ...  ...   ...    ...    ...\n",
       "4379  深圳  2022-12-27 周二  21°  12°     晴   东风2级      -\n",
       "4380  深圳  2022-12-28 周三  20°  10°  多云~阴  东北风2级      -\n",
       "4381  深圳  2022-12-29 周四  17°   9°  多云~晴  东北风3级      -\n",
       "4382  深圳  2022-12-30 周五  16°  11°  多云~晴  东北风3级      -\n",
       "4383  深圳  2022-12-31 周六  18°  12°  晴~多云  东北风3级   46 优\n",
       "\n",
       "[4384 rows x 7 columns]"
      ]
     },
     "execution_count": 3,
     "metadata": {},
     "output_type": "execute_result"
    }
   ],
   "source": [
    "data = pd.read_csv('北上广深历史天气.csv')\n",
    "data"
   ]
  },
  {
   "cell_type": "markdown",
   "id": "b110b08c",
   "metadata": {},
   "source": [
    "## 数据预览"
   ]
  },
  {
   "cell_type": "code",
   "execution_count": 4,
   "id": "736c1f5f",
   "metadata": {
    "scrolled": true
   },
   "outputs": [
    {
     "data": {
      "text/html": [
       "<div>\n",
       "<style scoped>\n",
       "    .dataframe tbody tr th:only-of-type {\n",
       "        vertical-align: middle;\n",
       "    }\n",
       "\n",
       "    .dataframe tbody tr th {\n",
       "        vertical-align: top;\n",
       "    }\n",
       "\n",
       "    .dataframe thead th {\n",
       "        text-align: right;\n",
       "    }\n",
       "</style>\n",
       "<table border=\"1\" class=\"dataframe\">\n",
       "  <thead>\n",
       "    <tr style=\"text-align: right;\">\n",
       "      <th></th>\n",
       "      <th>城市</th>\n",
       "      <th>日期</th>\n",
       "      <th>最高温</th>\n",
       "      <th>最低温</th>\n",
       "      <th>天气</th>\n",
       "      <th>风力风向</th>\n",
       "      <th>空气质量指数</th>\n",
       "    </tr>\n",
       "  </thead>\n",
       "  <tbody>\n",
       "    <tr>\n",
       "      <th>3218</th>\n",
       "      <td>广州</td>\n",
       "      <td>2022-10-23 周日</td>\n",
       "      <td>34°</td>\n",
       "      <td>20°</td>\n",
       "      <td>晴</td>\n",
       "      <td>东北风2级</td>\n",
       "      <td>58 良</td>\n",
       "    </tr>\n",
       "    <tr>\n",
       "      <th>2992</th>\n",
       "      <td>广州</td>\n",
       "      <td>2022-03-11 周五</td>\n",
       "      <td>27°</td>\n",
       "      <td>16°</td>\n",
       "      <td>多云</td>\n",
       "      <td>东南风2级</td>\n",
       "      <td>56 良</td>\n",
       "    </tr>\n",
       "    <tr>\n",
       "      <th>2284</th>\n",
       "      <td>广州</td>\n",
       "      <td>2020-04-02 周四</td>\n",
       "      <td>19°</td>\n",
       "      <td>17°</td>\n",
       "      <td>阵雨~雷阵雨</td>\n",
       "      <td>东北风2级</td>\n",
       "      <td>44 优</td>\n",
       "    </tr>\n",
       "    <tr>\n",
       "      <th>3526</th>\n",
       "      <td>深圳</td>\n",
       "      <td>2020-08-26 周三</td>\n",
       "      <td>32°</td>\n",
       "      <td>25°</td>\n",
       "      <td>阴~大雨</td>\n",
       "      <td>西南风3级</td>\n",
       "      <td>27 优</td>\n",
       "    </tr>\n",
       "    <tr>\n",
       "      <th>3841</th>\n",
       "      <td>深圳</td>\n",
       "      <td>2021-07-07 周三</td>\n",
       "      <td>31°</td>\n",
       "      <td>27°</td>\n",
       "      <td>中雨~多云</td>\n",
       "      <td>东南风3级</td>\n",
       "      <td>26 优</td>\n",
       "    </tr>\n",
       "  </tbody>\n",
       "</table>\n",
       "</div>"
      ],
      "text/plain": [
       "      城市             日期  最高温  最低温      天气   风力风向 空气质量指数\n",
       "3218  广州  2022-10-23 周日  34°  20°       晴  东北风2级   58 良\n",
       "2992  广州  2022-03-11 周五  27°  16°      多云  东南风2级   56 良\n",
       "2284  广州  2020-04-02 周四  19°  17°  阵雨~雷阵雨  东北风2级   44 优\n",
       "3526  深圳  2020-08-26 周三  32°  25°    阴~大雨  西南风3级   27 优\n",
       "3841  深圳  2021-07-07 周三  31°  27°   中雨~多云  东南风3级   26 优"
      ]
     },
     "execution_count": 4,
     "metadata": {},
     "output_type": "execute_result"
    }
   ],
   "source": [
    "data.sample(5)"
   ]
  },
  {
   "cell_type": "code",
   "execution_count": 5,
   "id": "80d19028",
   "metadata": {},
   "outputs": [
    {
     "name": "stdout",
     "output_type": "stream",
     "text": [
      "<class 'pandas.core.frame.DataFrame'>\n",
      "RangeIndex: 4384 entries, 0 to 4383\n",
      "Data columns (total 7 columns):\n",
      " #   Column  Non-Null Count  Dtype \n",
      "---  ------  --------------  ----- \n",
      " 0   城市      4384 non-null   object\n",
      " 1   日期      4384 non-null   object\n",
      " 2   最高温     4384 non-null   object\n",
      " 3   最低温     4384 non-null   object\n",
      " 4   天气      4384 non-null   object\n",
      " 5   风力风向    4384 non-null   object\n",
      " 6   空气质量指数  4384 non-null   object\n",
      "dtypes: object(7)\n",
      "memory usage: 239.9+ KB\n"
     ]
    }
   ],
   "source": [
    "data.info()"
   ]
  },
  {
   "cell_type": "markdown",
   "id": "4b0a2e69",
   "metadata": {},
   "source": [
    "# 把数据写入保存到数据库中"
   ]
  },
  {
   "cell_type": "code",
   "execution_count": 6,
   "id": "8791650e",
   "metadata": {},
   "outputs": [
    {
     "name": "stdout",
     "output_type": "stream",
     "text": [
      "      城市             日期  最高温  最低温    天气   风力风向 空气质量指数\n",
      "0     北京  2020-01-01 周三   0°  -9°     晴  东北风1级   53 良\n",
      "1     北京  2020-01-02 周四   4°  -8°    多云  西北风1级   74 良\n",
      "2     北京  2020-01-03 周五   7°  -5°     晴  西北风1级   72 良\n",
      "3     北京  2020-01-04 周六   9°  -5°     晴  东北风1级   59 良\n",
      "4     北京  2020-01-05 周日   2°  -3°  阴~小雪  东北风1级   79 良\n",
      "...   ..            ...  ...  ...   ...    ...    ...\n",
      "4379  深圳  2022-12-27 周二  21°  12°     晴   东风2级      -\n",
      "4380  深圳  2022-12-28 周三  20°  10°  多云~阴  东北风2级      -\n",
      "4381  深圳  2022-12-29 周四  17°   9°  多云~晴  东北风3级      -\n",
      "4382  深圳  2022-12-30 周五  16°  11°  多云~晴  东北风3级      -\n",
      "4383  深圳  2022-12-31 周六  18°  12°  晴~多云  东北风3级   46 优\n",
      "\n",
      "[4384 rows x 7 columns]\n",
      "导入成功...\n"
     ]
    }
   ],
   "source": [
    "import pymysql\n",
    "import pandas as pd\n",
    "from sqlalchemy import create_engine\n",
    "\n",
    "# 数据库信息\n",
    "mysql_setting = {\n",
    "    'host': 'localhost',\n",
    "    'port': 3306,\n",
    "    'user': 'root',\n",
    "    'passwd': '202899318',\n",
    "    # 数据库名称\n",
    "    'db': 'ksh',\n",
    "    'charset': 'utf8'\n",
    "}\n",
    "# 表名\n",
    "# 如果不存在表，则自动创建\n",
    "table_name = 'weather'\n",
    "# 文件路径\n",
    "path = r'北上广深历史天气.csv'\n",
    "data2 = pd.read_csv(path,encoding='utf-8')\n",
    "print(data2)\n",
    "engine = create_engine(\"mysql+pymysql://{user}:{passwd}@{host}:{port}/{db}\".format(**mysql_setting), max_overflow=5)\n",
    "data2.to_sql(table_name,engine,index=False,if_exists='replace',)\n",
    "print('导入成功...')"
   ]
  },
  {
   "cell_type": "code",
   "execution_count": 7,
   "id": "b04b545e",
   "metadata": {},
   "outputs": [
    {
     "name": "stdout",
     "output_type": "stream",
     "text": [
      "      城市             日期  最高温  最低温    天气   风力风向 空气质量指数\n",
      "0     北京  2020-01-01 周三   0°  -9°     晴  东北风1级   53 良\n",
      "1     北京  2020-01-02 周四   4°  -8°    多云  西北风1级   74 良\n",
      "2     北京  2020-01-03 周五   7°  -5°     晴  西北风1级   72 良\n",
      "3     北京  2020-01-04 周六   9°  -5°     晴  东北风1级   59 良\n",
      "4     北京  2020-01-05 周日   2°  -3°  阴~小雪  东北风1级   79 良\n",
      "...   ..            ...  ...  ...   ...    ...    ...\n",
      "4379  深圳  2022-12-27 周二  21°  12°     晴   东风2级      -\n",
      "4380  深圳  2022-12-28 周三  20°  10°  多云~阴  东北风2级      -\n",
      "4381  深圳  2022-12-29 周四  17°   9°  多云~晴  东北风3级      -\n",
      "4382  深圳  2022-12-30 周五  16°  11°  多云~晴  东北风3级      -\n",
      "4383  深圳  2022-12-31 周六  18°  12°  晴~多云  东北风3级   46 优\n",
      "\n",
      "[4384 rows x 7 columns]\n"
     ]
    },
    {
     "name": "stderr",
     "output_type": "stream",
     "text": [
      "C:\\Users\\Administrator\\AppData\\Local\\Programs\\Python\\Python39\\lib\\site-packages\\pandas\\io\\sql.py:761: UserWarning: pandas only support SQLAlchemy connectable(engine/connection) ordatabase string URI or sqlite3 DBAPI2 connectionother DBAPI2 objects are not tested, please consider using SQLAlchemy\n",
      "  warnings.warn(\n"
     ]
    }
   ],
   "source": [
    "#查看数据库数据\n",
    "import pymysql\n",
    "import pandas as pd\n",
    "conn=pymysql.connect(host='localhost',user='root',password='202899318',database='ksh',charset='utf8')\n",
    "sql = \"SELECT * FROM weather\"\n",
    "data1 = pd.read_sql(sql, conn)\n",
    "print(data1)"
   ]
  },
  {
   "cell_type": "markdown",
   "id": "18787504",
   "metadata": {},
   "source": [
    "# 各地区空气质量等级展示"
   ]
  },
  {
   "cell_type": "code",
   "execution_count": 8,
   "id": "4d0b065b",
   "metadata": {},
   "outputs": [
    {
     "data": {
      "text/html": [
       "<div>\n",
       "<style scoped>\n",
       "    .dataframe tbody tr th:only-of-type {\n",
       "        vertical-align: middle;\n",
       "    }\n",
       "\n",
       "    .dataframe tbody tr th {\n",
       "        vertical-align: top;\n",
       "    }\n",
       "\n",
       "    .dataframe thead th {\n",
       "        text-align: right;\n",
       "    }\n",
       "</style>\n",
       "<table border=\"1\" class=\"dataframe\">\n",
       "  <thead>\n",
       "    <tr style=\"text-align: right;\">\n",
       "      <th></th>\n",
       "      <th>城市</th>\n",
       "      <th>日期</th>\n",
       "      <th>最高温</th>\n",
       "      <th>最低温</th>\n",
       "      <th>天气</th>\n",
       "      <th>风力风向</th>\n",
       "      <th>空气质量指数</th>\n",
       "      <th>等级</th>\n",
       "    </tr>\n",
       "  </thead>\n",
       "  <tbody>\n",
       "    <tr>\n",
       "      <th>0</th>\n",
       "      <td>北京</td>\n",
       "      <td>2020-01-01 周三</td>\n",
       "      <td>0°</td>\n",
       "      <td>-9°</td>\n",
       "      <td>晴</td>\n",
       "      <td>东北风1级</td>\n",
       "      <td>53</td>\n",
       "      <td>良</td>\n",
       "    </tr>\n",
       "    <tr>\n",
       "      <th>1</th>\n",
       "      <td>北京</td>\n",
       "      <td>2020-01-02 周四</td>\n",
       "      <td>4°</td>\n",
       "      <td>-8°</td>\n",
       "      <td>多云</td>\n",
       "      <td>西北风1级</td>\n",
       "      <td>74</td>\n",
       "      <td>良</td>\n",
       "    </tr>\n",
       "    <tr>\n",
       "      <th>2</th>\n",
       "      <td>北京</td>\n",
       "      <td>2020-01-03 周五</td>\n",
       "      <td>7°</td>\n",
       "      <td>-5°</td>\n",
       "      <td>晴</td>\n",
       "      <td>西北风1级</td>\n",
       "      <td>72</td>\n",
       "      <td>良</td>\n",
       "    </tr>\n",
       "    <tr>\n",
       "      <th>3</th>\n",
       "      <td>北京</td>\n",
       "      <td>2020-01-04 周六</td>\n",
       "      <td>9°</td>\n",
       "      <td>-5°</td>\n",
       "      <td>晴</td>\n",
       "      <td>东北风1级</td>\n",
       "      <td>59</td>\n",
       "      <td>良</td>\n",
       "    </tr>\n",
       "    <tr>\n",
       "      <th>4</th>\n",
       "      <td>北京</td>\n",
       "      <td>2020-01-05 周日</td>\n",
       "      <td>2°</td>\n",
       "      <td>-3°</td>\n",
       "      <td>阴~小雪</td>\n",
       "      <td>东北风1级</td>\n",
       "      <td>79</td>\n",
       "      <td>良</td>\n",
       "    </tr>\n",
       "  </tbody>\n",
       "</table>\n",
       "</div>"
      ],
      "text/plain": [
       "   城市             日期 最高温  最低温    天气   风力风向 空气质量指数 等级\n",
       "0  北京  2020-01-01 周三  0°  -9°     晴  东北风1级     53  良\n",
       "1  北京  2020-01-02 周四  4°  -8°    多云  西北风1级     74  良\n",
       "2  北京  2020-01-03 周五  7°  -5°     晴  西北风1级     72  良\n",
       "3  北京  2020-01-04 周六  9°  -5°     晴  东北风1级     59  良\n",
       "4  北京  2020-01-05 周日  2°  -3°  阴~小雪  东北风1级     79  良"
      ]
     },
     "execution_count": 8,
     "metadata": {},
     "output_type": "execute_result"
    }
   ],
   "source": [
    "#切割空气质量\n",
    "data[['空气质量指数','等级']] = data['空气质量指数'].str.split(' ',expand=True,n=1)\n",
    "data.head()"
   ]
  },
  {
   "cell_type": "code",
   "execution_count": 9,
   "id": "b2802819",
   "metadata": {},
   "outputs": [
    {
     "data": {
      "text/plain": [
       "城市          0\n",
       "日期          0\n",
       "最高温         0\n",
       "最低温         0\n",
       "天气          0\n",
       "风力风向        0\n",
       "空气质量指数      0\n",
       "等级        120\n",
       "dtype: int64"
      ]
     },
     "execution_count": 9,
     "metadata": {},
     "output_type": "execute_result"
    }
   ],
   "source": [
    "#获取各地区的空气质量数据\n",
    "data_beijing=data[(data['城市'] == '北京')]\n",
    "data_guangzhou=data[(data['城市'] == '广州')]\n",
    "data_shanghai=data[(data['城市'] == '上海')]\n",
    "data_shenzheng=data[(data['城市'] == '深圳')]\n",
    "#查看数据缺失情况\n",
    "data.isnull().sum()"
   ]
  },
  {
   "cell_type": "code",
   "execution_count": 10,
   "id": "dd2dccbc",
   "metadata": {},
   "outputs": [
    {
     "name": "stderr",
     "output_type": "stream",
     "text": [
      "C:\\Users\\Administrator\\AppData\\Local\\Temp\\ipykernel_18596\\2624826825.py:2: SettingWithCopyWarning: \n",
      "A value is trying to be set on a copy of a slice from a DataFrame\n",
      "\n",
      "See the caveats in the documentation: https://pandas.pydata.org/pandas-docs/stable/user_guide/indexing.html#returning-a-view-versus-a-copy\n",
      "  data_beijing.dropna(axis='index', how='any', inplace=True)\n"
     ]
    },
    {
     "data": {
      "text/plain": [
       "城市        0\n",
       "日期        0\n",
       "最高温       0\n",
       "最低温       0\n",
       "天气        0\n",
       "风力风向      0\n",
       "空气质量指数    0\n",
       "等级        0\n",
       "dtype: int64"
      ]
     },
     "execution_count": 10,
     "metadata": {},
     "output_type": "execute_result"
    }
   ],
   "source": [
    "#数据删除没用的空值列然后验证是否去除成功\n",
    "data_beijing.dropna(axis='index', how='any', inplace=True)\n",
    "data_beijing.isnull().sum()"
   ]
  },
  {
   "cell_type": "code",
   "execution_count": 11,
   "id": "53207f28",
   "metadata": {},
   "outputs": [
    {
     "name": "stderr",
     "output_type": "stream",
     "text": [
      "C:\\Users\\Administrator\\AppData\\Local\\Temp\\ipykernel_18596\\1991498914.py:2: SettingWithCopyWarning: \n",
      "A value is trying to be set on a copy of a slice from a DataFrame\n",
      "\n",
      "See the caveats in the documentation: https://pandas.pydata.org/pandas-docs/stable/user_guide/indexing.html#returning-a-view-versus-a-copy\n",
      "  data_guangzhou.dropna(axis='index', how='any', inplace=True)\n",
      "C:\\Users\\Administrator\\AppData\\Local\\Temp\\ipykernel_18596\\1991498914.py:3: SettingWithCopyWarning: \n",
      "A value is trying to be set on a copy of a slice from a DataFrame\n",
      "\n",
      "See the caveats in the documentation: https://pandas.pydata.org/pandas-docs/stable/user_guide/indexing.html#returning-a-view-versus-a-copy\n",
      "  data_shanghai.dropna(axis='index', how='any', inplace=True)\n",
      "C:\\Users\\Administrator\\AppData\\Local\\Temp\\ipykernel_18596\\1991498914.py:4: SettingWithCopyWarning: \n",
      "A value is trying to be set on a copy of a slice from a DataFrame\n",
      "\n",
      "See the caveats in the documentation: https://pandas.pydata.org/pandas-docs/stable/user_guide/indexing.html#returning-a-view-versus-a-copy\n",
      "  data_shenzheng.dropna(axis='index', how='any', inplace=True)\n"
     ]
    }
   ],
   "source": [
    "#同理以上删除对应的广州上海和深圳的空值行\n",
    "data_guangzhou.dropna(axis='index', how='any', inplace=True)\n",
    "data_shanghai.dropna(axis='index', how='any', inplace=True)\n",
    "data_shenzheng.dropna(axis='index', how='any', inplace=True)"
   ]
  },
  {
   "cell_type": "code",
   "execution_count": 40,
   "id": "cdfa6c1f",
   "metadata": {},
   "outputs": [
    {
     "data": {
      "image/png": "[encoded data removed]",
      "text/plain": [
       "<Figure size 432x288 with 1 Axes>"
      ]
     },
     "metadata": {
      "needs_background": "light"
     },
     "output_type": "display_data"
    },
    {
     "data": {
      "image/png": "[encoded data removed]",
      "text/plain": [
       "<Figure size 432x288 with 1 Axes>"
      ]
     },
     "metadata": {
      "needs_background": "light"
     },
     "output_type": "display_data"
    }
   ],
   "source": [
    "import pandas as pd\n",
    "import seaborn as sn\n",
    "import matplotlib.pyplot as plt\n",
    "# 正常显示中文标签\n",
    "plt.rcParams['font.sans-serif'] = ['SimHei']\n",
    "plt.rcParams['font.family'] = 'sans-serif'\n",
    "# 绘制北京空气质量等级分类散点图\n",
    "plt.figure()\n",
    "# 绘制散点图，x轴:等级，y轴：空气等级数据\n",
    "plt.yticks(np.arange(0, 200, 10))\n",
    "plt.scatter(x=data_beijing.等级, y=data_beijing.空气质量指数)\n",
    "# 设定x轴标签和字体大小\n",
    "\n",
    "plt.xlabel('空气质量指数', fontsize=15)\n",
    "# 设定y轴标签和字体大小\n",
    "plt.ylabel('空气等级', fontsize=15)\n",
    "# 设定标题和字体大小\n",
    "plt.title('北京空气质量等级分类散点图', fontsize=20)\n",
    "# 显示图像\n",
    "plt.show()\n",
    "# 绘制空气质量等级单变量分布图\n",
    "# 绘制以第7列为 x 轴\n",
    "sn.countplot(x=data_beijing.columns[7], data=data_beijing)\n",
    "# 设置标题为“空气质量等级单变量分布图”\n",
    "plt.title(\"空气质量等级单变量分布图\")\n",
    "# 设置 x 轴标签为“质量等级”\n",
    "plt.xlabel(\"质量等级\")\n",
    "# 设置 y 轴标签为“频数”\n",
    "plt.ylabel(\"频数\")\n",
    "# 显示图像\n",
    "plt.show()"
   ]
  },
  {
   "cell_type": "code",
   "execution_count": 43,
   "id": "5de81baa",
   "metadata": {},
   "outputs": [
    {
     "data": {
      "image/png": "[encoded data removed]",
      "text/plain": [
       "<Figure size 432x288 with 1 Axes>"
      ]
     },
     "metadata": {
      "needs_background": "light"
     },
     "output_type": "display_data"
    },
    {
     "data": {
      "image/png": "[encoded data removed]",
      "text/plain": [
       "<Figure size 432x288 with 1 Axes>"
      ]
     },
     "metadata": {
      "needs_background": "light"
     },
     "output_type": "display_data"
    }
   ],
   "source": [
    "# 绘制广州空气质量等级分类散点图\n",
    "plt.figure()\n",
    "# 绘制散点图，x轴:等级，y轴：空气等级数据\n",
    "\n",
    "sn.stripplot(x=data_guangzhou[data_guangzhou.columns[7]], y=data_guangzhou[data_guangzhou.columns[6]], data=data_guangzhou, jitter=True)\n",
    "# 设定x轴标签和字体大小\n",
    "plt.xlabel('空气质量指数', fontsize=15)\n",
    "# 设定y轴标签和字体大小\n",
    "plt.ylabel('空气等级', fontsize=15)\n",
    "plt.yticks(np.arange(0, 100, 10))\n",
    "# 设定标题和字体大小\n",
    "plt.title('广州空气质量等级分类散点图', fontsize=20)\n",
    "# 显示图形\n",
    "plt.show()\n",
    "# 绘制空气质量等级单变量分布图\n",
    "# 绘制以第7列为 x 轴\n",
    "sn.countplot(x=data_beijing.columns[7], data=data_guangzhou)\n",
    "# 设置标题为“空气质量等级单变量分布图”\n",
    "plt.title(\"空气质量等级单变量分布图\")\n",
    "# 设置 x 轴标签为“质量等级”\n",
    "plt.xlabel(\"质量等级\")\n",
    "# 设置 y 轴标签为“频数”\n",
    "plt.ylabel(\"频数\")\n",
    "# 显示图像\n",
    "plt.show()"
   ]
  },
  {
   "cell_type": "code",
   "execution_count": 46,
   "id": "57aa2e81",
   "metadata": {},
   "outputs": [
    {
     "data": {
      "image/png": "[encoded data removed]",
      "text/plain": [
       "<Figure size 432x288 with 1 Axes>"
      ]
     },
     "metadata": {
      "needs_background": "light"
     },
     "output_type": "display_data"
    },
    {
     "data": {
      "image/png": "[encoded data removed]",
      "text/plain": [
       "<Figure size 432x288 with 1 Axes>"
      ]
     },
     "metadata": {
      "needs_background": "light"
     },
     "output_type": "display_data"
    }
   ],
   "source": [
    "# 绘制深圳空气质量等级分类散点图\n",
    "plt.figure()\n",
    "# 绘制散点图，x轴:等级，y轴：空气等级数据\n",
    "sn.stripplot(x=data_shenzheng[data_shenzheng.columns[7]], y=data_shenzheng[data_shenzheng.columns[6]], data=data_shenzheng, jitter=True)\n",
    "# sn.stripplot(x=data_shanghai[data_shanghai.columns[7]], y=data_shanghai[data_shanghai.columns[6]], data=data_shanghai, jitter=True)\n",
    "# 设定x轴标签和字体大小\n",
    "plt.xlabel('空气质量指数', fontsize=15)\n",
    "# 设定y轴标签和字体大小\n",
    "plt.ylabel('空气等级', fontsize=15)\n",
    "plt.yticks(np.arange(0, 90, 10))\n",
    "# 设定标题和字体大小\n",
    "plt.title('深圳空气质量等级分类散点图', fontsize=20)\n",
    "# 显示图形\n",
    "plt.show()\n",
    "# 绘制空气质量等级单变量分布图\n",
    "# 绘制以第7列为 x 轴\n",
    "sn.countplot(x=data_beijing.columns[7], data=data_shenzheng)\n",
    "# 设置标题为“空气质量等级单变量分布图”\n",
    "plt.title(\"空气质量等级单变量分布图\")\n",
    "# 设置 x 轴标签为“质量等级”\n",
    "plt.xlabel(\"质量等级\")\n",
    "# 设置 y 轴标签为“频数”\n",
    "plt.ylabel(\"频数\")\n",
    "# 显示图像\n",
    "plt.show()"
   ]
  },
  {
   "cell_type": "code",
   "execution_count": 47,
   "id": "5fce5d33",
   "metadata": {},
   "outputs": [
    {
     "data": {
      "image/png": "[encoded data removed]",
      "text/plain": [
       "<Figure size 432x288 with 1 Axes>"
      ]
     },
     "metadata": {
      "needs_background": "light"
     },
     "output_type": "display_data"
    },
    {
     "data": {
      "image/png": "[encoded data removed]",
      "text/plain": [
       "<Figure size 432x288 with 1 Axes>"
      ]
     },
     "metadata": {
      "needs_background": "light"
     },
     "output_type": "display_data"
    }
   ],
   "source": [
    "# 绘制上海空气质量等级分类散点图\n",
    "plt.figure()\n",
    "# 绘制散点图，x轴:等级，y轴：空气等级数据\n",
    "sn.stripplot(x=data_shanghai[data_shanghai.columns[7]], y=data_shanghai[data_shanghai.columns[6]], data=data_shanghai, jitter=True)\n",
    "# 设定x轴标签和字体大小\n",
    "plt.xlabel('空气质量指数', fontsize=15)\n",
    "# 设定y轴标签和字体大小\n",
    "plt.ylabel('空气等级', fontsize=15)\n",
    "plt.yticks(np.arange(0, 100, 10))\n",
    "# 设定标题和字体大小\n",
    "plt.title('上海空气质量等级分类散点图', fontsize=20)\n",
    "# 显示图形\n",
    "plt.show()\n",
    "# 绘制空气质量等级单变量分布图\n",
    "# 绘制以第7列为 x 轴\n",
    "sn.countplot(x=data_beijing.columns[7], data=data_shanghai)\n",
    "# 设置标题为“空气质量等级单变量分布图”\n",
    "plt.title(\"空气质量等级单变量分布图\")\n",
    "# 设置 x 轴标签为“质量等级”\n",
    "plt.xlabel(\"质量等级\")\n",
    "# 设置 y 轴标签为“频数”\n",
    "plt.ylabel(\"频数\")\n",
    "# 显示图像\n",
    "plt.show()"
   ]
  },
  {
   "cell_type": "markdown",
   "id": "bfffad1d",
   "metadata": {},
   "source": [
    "# 各地风级雷达图"
   ]
  },
  {
   "cell_type": "code",
   "execution_count": 16,
   "id": "b622f583",
   "metadata": {},
   "outputs": [
    {
     "data": {
      "text/html": [
       "<div>\n",
       "<style scoped>\n",
       "    .dataframe tbody tr th:only-of-type {\n",
       "        vertical-align: middle;\n",
       "    }\n",
       "\n",
       "    .dataframe tbody tr th {\n",
       "        vertical-align: top;\n",
       "    }\n",
       "\n",
       "    .dataframe thead th {\n",
       "        text-align: right;\n",
       "    }\n",
       "</style>\n",
       "<table border=\"1\" class=\"dataframe\">\n",
       "  <thead>\n",
       "    <tr style=\"text-align: right;\">\n",
       "      <th></th>\n",
       "      <th>城市</th>\n",
       "      <th>日期</th>\n",
       "      <th>最高温</th>\n",
       "      <th>最低温</th>\n",
       "      <th>天气</th>\n",
       "      <th>风力风向</th>\n",
       "      <th>空气质量指数</th>\n",
       "      <th>风向</th>\n",
       "      <th>风力</th>\n",
       "    </tr>\n",
       "  </thead>\n",
       "  <tbody>\n",
       "    <tr>\n",
       "      <th>0</th>\n",
       "      <td>北京</td>\n",
       "      <td>2020-01-01 周三</td>\n",
       "      <td>0°</td>\n",
       "      <td>-9°</td>\n",
       "      <td>晴</td>\n",
       "      <td>东北风1级</td>\n",
       "      <td>53 良</td>\n",
       "      <td>东北</td>\n",
       "      <td>1</td>\n",
       "    </tr>\n",
       "    <tr>\n",
       "      <th>1</th>\n",
       "      <td>北京</td>\n",
       "      <td>2020-01-02 周四</td>\n",
       "      <td>4°</td>\n",
       "      <td>-8°</td>\n",
       "      <td>多云</td>\n",
       "      <td>西北风1级</td>\n",
       "      <td>74 良</td>\n",
       "      <td>西北</td>\n",
       "      <td>1</td>\n",
       "    </tr>\n",
       "    <tr>\n",
       "      <th>2</th>\n",
       "      <td>北京</td>\n",
       "      <td>2020-01-03 周五</td>\n",
       "      <td>7°</td>\n",
       "      <td>-5°</td>\n",
       "      <td>晴</td>\n",
       "      <td>西北风1级</td>\n",
       "      <td>72 良</td>\n",
       "      <td>西北</td>\n",
       "      <td>1</td>\n",
       "    </tr>\n",
       "    <tr>\n",
       "      <th>3</th>\n",
       "      <td>北京</td>\n",
       "      <td>2020-01-04 周六</td>\n",
       "      <td>9°</td>\n",
       "      <td>-5°</td>\n",
       "      <td>晴</td>\n",
       "      <td>东北风1级</td>\n",
       "      <td>59 良</td>\n",
       "      <td>东北</td>\n",
       "      <td>1</td>\n",
       "    </tr>\n",
       "    <tr>\n",
       "      <th>4</th>\n",
       "      <td>北京</td>\n",
       "      <td>2020-01-05 周日</td>\n",
       "      <td>2°</td>\n",
       "      <td>-3°</td>\n",
       "      <td>阴~小雪</td>\n",
       "      <td>东北风1级</td>\n",
       "      <td>79 良</td>\n",
       "      <td>东北</td>\n",
       "      <td>1</td>\n",
       "    </tr>\n",
       "  </tbody>\n",
       "</table>\n",
       "</div>"
      ],
      "text/plain": [
       "   城市             日期 最高温  最低温    天气   风力风向 空气质量指数  风向 风力\n",
       "0  北京  2020-01-01 周三  0°  -9°     晴  东北风1级   53 良  东北  1\n",
       "1  北京  2020-01-02 周四  4°  -8°    多云  西北风1级   74 良  西北  1\n",
       "2  北京  2020-01-03 周五  7°  -5°     晴  西北风1级   72 良  西北  1\n",
       "3  北京  2020-01-04 周六  9°  -5°     晴  东北风1级   59 良  东北  1\n",
       "4  北京  2020-01-05 周日  2°  -3°  阴~小雪  东北风1级   79 良  东北  1"
      ]
     },
     "execution_count": 16,
     "metadata": {},
     "output_type": "execute_result"
    }
   ],
   "source": [
    "#切割风力风向\n",
    "data1[['风向','风力']] = data1['风力风向'].str.split('风',expand=True,n=1)\n",
    "#去掉风力的“级”单位\n",
    "import re\n",
    "unit=\"级\"\n",
    "data1['风力']=[sub.replace(unit, \"\").strip() for sub in data1['风力']]\n",
    "#把数据风力内的“微风代替成”等级的风力\n",
    "data1['风力'].replace('微风','1',inplace=True)\n",
    "data1.head()"
   ]
  },
  {
   "cell_type": "code",
   "execution_count": 17,
   "id": "cd4175f9",
   "metadata": {},
   "outputs": [
    {
     "data": {
      "text/html": [
       "<div>\n",
       "<style scoped>\n",
       "    .dataframe tbody tr th:only-of-type {\n",
       "        vertical-align: middle;\n",
       "    }\n",
       "\n",
       "    .dataframe tbody tr th {\n",
       "        vertical-align: top;\n",
       "    }\n",
       "\n",
       "    .dataframe thead th {\n",
       "        text-align: right;\n",
       "    }\n",
       "</style>\n",
       "<table border=\"1\" class=\"dataframe\">\n",
       "  <thead>\n",
       "    <tr style=\"text-align: right;\">\n",
       "      <th></th>\n",
       "      <th>城市</th>\n",
       "      <th>日期</th>\n",
       "      <th>最高温</th>\n",
       "      <th>最低温</th>\n",
       "      <th>天气</th>\n",
       "      <th>风力风向</th>\n",
       "      <th>空气质量指数</th>\n",
       "      <th>风向</th>\n",
       "      <th>风力</th>\n",
       "    </tr>\n",
       "  </thead>\n",
       "  <tbody>\n",
       "    <tr>\n",
       "      <th>0</th>\n",
       "      <td>北京</td>\n",
       "      <td>2020-01-01 周三</td>\n",
       "      <td>0°</td>\n",
       "      <td>-9°</td>\n",
       "      <td>晴</td>\n",
       "      <td>东北风1级</td>\n",
       "      <td>53 良</td>\n",
       "      <td>东北</td>\n",
       "      <td>1</td>\n",
       "    </tr>\n",
       "    <tr>\n",
       "      <th>1</th>\n",
       "      <td>北京</td>\n",
       "      <td>2020-01-02 周四</td>\n",
       "      <td>4°</td>\n",
       "      <td>-8°</td>\n",
       "      <td>多云</td>\n",
       "      <td>西北风1级</td>\n",
       "      <td>74 良</td>\n",
       "      <td>西北</td>\n",
       "      <td>1</td>\n",
       "    </tr>\n",
       "    <tr>\n",
       "      <th>2</th>\n",
       "      <td>北京</td>\n",
       "      <td>2020-01-03 周五</td>\n",
       "      <td>7°</td>\n",
       "      <td>-5°</td>\n",
       "      <td>晴</td>\n",
       "      <td>西北风1级</td>\n",
       "      <td>72 良</td>\n",
       "      <td>西北</td>\n",
       "      <td>1</td>\n",
       "    </tr>\n",
       "    <tr>\n",
       "      <th>3</th>\n",
       "      <td>北京</td>\n",
       "      <td>2020-01-04 周六</td>\n",
       "      <td>9°</td>\n",
       "      <td>-5°</td>\n",
       "      <td>晴</td>\n",
       "      <td>东北风1级</td>\n",
       "      <td>59 良</td>\n",
       "      <td>东北</td>\n",
       "      <td>1</td>\n",
       "    </tr>\n",
       "    <tr>\n",
       "      <th>4</th>\n",
       "      <td>北京</td>\n",
       "      <td>2020-01-05 周日</td>\n",
       "      <td>2°</td>\n",
       "      <td>-3°</td>\n",
       "      <td>阴~小雪</td>\n",
       "      <td>东北风1级</td>\n",
       "      <td>79 良</td>\n",
       "      <td>东北</td>\n",
       "      <td>1</td>\n",
       "    </tr>\n",
       "    <tr>\n",
       "      <th>...</th>\n",
       "      <td>...</td>\n",
       "      <td>...</td>\n",
       "      <td>...</td>\n",
       "      <td>...</td>\n",
       "      <td>...</td>\n",
       "      <td>...</td>\n",
       "      <td>...</td>\n",
       "      <td>...</td>\n",
       "      <td>...</td>\n",
       "    </tr>\n",
       "    <tr>\n",
       "      <th>1091</th>\n",
       "      <td>北京</td>\n",
       "      <td>2022-12-27 周二</td>\n",
       "      <td>1°</td>\n",
       "      <td>-8°</td>\n",
       "      <td>晴</td>\n",
       "      <td>西北风4级</td>\n",
       "      <td>-</td>\n",
       "      <td>西北</td>\n",
       "      <td>4</td>\n",
       "    </tr>\n",
       "    <tr>\n",
       "      <th>1092</th>\n",
       "      <td>北京</td>\n",
       "      <td>2022-12-28 周三</td>\n",
       "      <td>3°</td>\n",
       "      <td>-8°</td>\n",
       "      <td>晴</td>\n",
       "      <td>西北风1级</td>\n",
       "      <td>-</td>\n",
       "      <td>西北</td>\n",
       "      <td>1</td>\n",
       "    </tr>\n",
       "    <tr>\n",
       "      <th>1093</th>\n",
       "      <td>北京</td>\n",
       "      <td>2022-12-29 周四</td>\n",
       "      <td>3°</td>\n",
       "      <td>-9°</td>\n",
       "      <td>晴</td>\n",
       "      <td>西北风2级</td>\n",
       "      <td>-</td>\n",
       "      <td>西北</td>\n",
       "      <td>2</td>\n",
       "    </tr>\n",
       "    <tr>\n",
       "      <th>1094</th>\n",
       "      <td>北京</td>\n",
       "      <td>2022-12-30 周五</td>\n",
       "      <td>4°</td>\n",
       "      <td>-8°</td>\n",
       "      <td>晴</td>\n",
       "      <td>西风1级</td>\n",
       "      <td>-</td>\n",
       "      <td>西</td>\n",
       "      <td>1</td>\n",
       "    </tr>\n",
       "    <tr>\n",
       "      <th>1095</th>\n",
       "      <td>北京</td>\n",
       "      <td>2022-12-31 周六</td>\n",
       "      <td>7°</td>\n",
       "      <td>-7°</td>\n",
       "      <td>晴</td>\n",
       "      <td>西北风2级</td>\n",
       "      <td>50 优</td>\n",
       "      <td>西北</td>\n",
       "      <td>2</td>\n",
       "    </tr>\n",
       "  </tbody>\n",
       "</table>\n",
       "<p>1096 rows × 9 columns</p>\n",
       "</div>"
      ],
      "text/plain": [
       "      城市             日期 最高温  最低温    天气   风力风向 空气质量指数  风向 风力\n",
       "0     北京  2020-01-01 周三  0°  -9°     晴  东北风1级   53 良  东北  1\n",
       "1     北京  2020-01-02 周四  4°  -8°    多云  西北风1级   74 良  西北  1\n",
       "2     北京  2020-01-03 周五  7°  -5°     晴  西北风1级   72 良  西北  1\n",
       "3     北京  2020-01-04 周六  9°  -5°     晴  东北风1级   59 良  东北  1\n",
       "4     北京  2020-01-05 周日  2°  -3°  阴~小雪  东北风1级   79 良  东北  1\n",
       "...   ..            ...  ..  ...   ...    ...    ...  .. ..\n",
       "1091  北京  2022-12-27 周二  1°  -8°     晴  西北风4级      -  西北  4\n",
       "1092  北京  2022-12-28 周三  3°  -8°     晴  西北风1级      -  西北  1\n",
       "1093  北京  2022-12-29 周四  3°  -9°     晴  西北风2级      -  西北  2\n",
       "1094  北京  2022-12-30 周五  4°  -8°     晴   西风1级      -   西  1\n",
       "1095  北京  2022-12-31 周六  7°  -7°     晴  西北风2级   50 优  西北  2\n",
       "\n",
       "[1096 rows x 9 columns]"
      ]
     },
     "execution_count": 17,
     "metadata": {},
     "output_type": "execute_result"
    }
   ],
   "source": [
    "#获取各地区的风力风向数据\n",
    "data_beijing1=data1[(data1['城市'] == '北京')]\n",
    "data_guangzhou1=data1[(data1['城市'] == '广州')]\n",
    "data_shanghai1=data1[(data1['城市'] == '上海')]\n",
    "data_shenzheng1=data1[(data1['城市'] == '深圳')]\n",
    "data_beijing1"
   ]
  },
  {
   "cell_type": "code",
   "execution_count": 18,
   "id": "2de04d30",
   "metadata": {},
   "outputs": [
    {
     "data": {
      "text/plain": [
       "城市        0\n",
       "日期        0\n",
       "最高温       0\n",
       "最低温       0\n",
       "天气        0\n",
       "风力风向      0\n",
       "空气质量指数    0\n",
       "风向        0\n",
       "风力        0\n",
       "dtype: int64"
      ]
     },
     "execution_count": 18,
     "metadata": {},
     "output_type": "execute_result"
    }
   ],
   "source": [
    "#查看数据缺失情况\n",
    "data1.isnull().sum()"
   ]
  },
  {
   "cell_type": "code",
   "execution_count": 49,
   "id": "5d3789d8",
   "metadata": {},
   "outputs": [
    {
     "name": "stdout",
     "output_type": "stream",
     "text": [
      "北京2020-2022年来的风玫瑰图\n"
     ]
    },
    {
     "data": {
      "image/png": "[encoded data removed]",
      "text/plain": [
       "<Figure size 640x640 with 1 Axes>"
      ]
     },
     "metadata": {},
     "output_type": "display_data"
    }
   ],
   "source": [
    "#  引用部分\n",
    "import matplotlib.pyplot as plt  # 导入绘图模块\n",
    "import pandas as pd  # 导入数据处理模块\n",
    "import numpy as np  # 导入数据处理模块\n",
    "import matplotlib\n",
    "from windrose import WindroseAxes  # 导入风玫瑰图模块\n",
    "\n",
    "matplotlib.rcParams['font.sans-serif'] = ['FangSong']  # 用仿宋字体显示中文\n",
    "matplotlib.rcParams['axes.unicode_minus'] = False  # 正常显示负号的设置\n",
    "print(\"北京2020-2022年来的风玫瑰图\")\n",
    "# 读取数据\n",
    "data3 = data_beijing1\n",
    "wind=list(data3['风向'])\n",
    "for i in range(0,1096):  \n",
    "    if wind[i] == \"北\":  \n",
    "        wind[i] = '90' \n",
    "    elif wind[i] == \"南\": \n",
    "        wind[i] = '270'  \n",
    "    elif wind[i] == \"西\":\n",
    "        wind[i] = '180'  \n",
    "    elif wind[i] == \"东\":\n",
    "        wind[i] = '360'  \n",
    "    elif wind[i] == \"东北\": \n",
    "        wind[i] = '45'  \n",
    "    elif wind[i] == \"西北\":  \n",
    "        wind[i] = '135'  \n",
    "    elif wind[i] == \"西南\":  \n",
    "        wind[i] = '225' \n",
    "    elif wind[i] == \"东南\":  \n",
    "        wind[i] = '315'\n",
    "data_wd = np.array(wind)  # 将风向转为ndarray矩阵-风向矩阵\n",
    "data_ws = np.array(data3['风力'])  # 将风速转为ndarray矩阵-风速矩阵\n",
    "data_ws = data_ws.astype(float)#字符转置\n",
    "data_wd = data_wd.astype(float)\n",
    "# 绘制风玫瑰图\n",
    "ax = WindroseAxes.from_ax()  # 调用风玫瑰图模块绘图\n",
    "ax.bar(data_wd,  # 设置风向数据\n",
    "       data_ws,  # 设置风速数据\n",
    "       nsector=16,  # 风向分为16个区间\n",
    "       bins=6,  # 风速分档\n",
    "       normed=True,\n",
    "       opening=0.8,  # 设置射线夹角\n",
    "       edgecolor='white',  # 设置边框颜色为白色\n",
    "       alpha=1)  # 设置透明度\n",
    "\n",
    "# 设置图例\n",
    "ax.set_legend(loc='best', fontsize=12)  # 设置图例位置\n",
    "plt.show()"
   ]
  },
  {
   "cell_type": "markdown",
   "id": "cd769045",
   "metadata": {},
   "source": [
    "### 分割日期/星期"
   ]
  },
  {
   "cell_type": "code",
   "execution_count": null,
   "id": "2cbadbc9",
   "metadata": {},
   "outputs": [],
   "source": [
    "data[['日期','星期']] = data['日期'].str.split(' ',expand=True,n=1)"
   ]
  },
  {
   "cell_type": "markdown",
   "id": "9a4b8e0a",
   "metadata": {},
   "source": [
    "### 去除多余字符"
   ]
  },
  {
   "cell_type": "code",
   "execution_count": null,
   "id": "26f05747",
   "metadata": {
    "scrolled": true
   },
   "outputs": [],
   "source": [
    "data[['最高温','最低温']] = data[['最高温','最低温']].apply(lambda x: x.str.replace('°',''))\n",
    "data.head()"
   ]
  },
  {
   "cell_type": "markdown",
   "id": "cbfae4c0",
   "metadata": {},
   "source": [
    "### 计算下雪天气"
   ]
  },
  {
   "cell_type": "code",
   "execution_count": null,
   "id": "f8b77597",
   "metadata": {},
   "outputs": [],
   "source": [
    "data.loc[data['天气'].str.contains('雪'),'下雪吗']='是'\n",
    "data.fillna('否',inplace=True)"
   ]
  },
  {
   "cell_type": "markdown",
   "id": "858debc5",
   "metadata": {},
   "source": [
    "### 分割日期时间"
   ]
  },
  {
   "cell_type": "code",
   "execution_count": null,
   "id": "ebb1b6e0",
   "metadata": {},
   "outputs": [],
   "source": [
    "data['日期'] = pd.to_datetime(data['日期'])\n",
    "data[['最高温','最低温']] = data[['最高温','最低温']].astype('int')"
   ]
  },
  {
   "cell_type": "code",
   "execution_count": null,
   "id": "0822ce50",
   "metadata": {},
   "outputs": [],
   "source": [
    "data['年份'] = data['日期'].dt.year\n",
    "data['月份'] = data['日期'].dt.month\n",
    "data['日'] = data['日期'].dt.day\n",
    "# 预览\n",
    "data.sample(5)"
   ]
  },
  {
   "cell_type": "markdown",
   "id": "cd4ddd06",
   "metadata": {},
   "source": [
    "## 各城市初雪的时间"
   ]
  },
  {
   "cell_type": "code",
   "execution_count": null,
   "id": "022999bf",
   "metadata": {},
   "outputs": [],
   "source": [
    "s_data = data[data['下雪吗']=='是']\n",
    "s_data[(s_data['月份']>=9)].groupby('年份').first().reset_index()"
   ]
  },
  {
   "cell_type": "markdown",
   "id": "f3cbb446",
   "metadata": {},
   "source": [
    "## 各城市下雪天气分布"
   ]
  },
  {
   "cell_type": "code",
   "execution_count": null,
   "id": "def91b3c",
   "metadata": {},
   "outputs": [],
   "source": [
    "s_data.groupby(['城市','年份'])['日期'].count().to_frame('下雪天数').reset_index()"
   ]
  },
  {
   "cell_type": "markdown",
   "id": "6a160b53",
   "metadata": {},
   "source": [
    "## 做透视表"
   ]
  },
  {
   "cell_type": "code",
   "execution_count": null,
   "id": "16955b29",
   "metadata": {},
   "outputs": [],
   "source": [
    "data_bj = data[(data['年份'] == 2021) & (data['城市'] == '北京')]\n",
    "data_bj = data_bj.groupby(['月份','天气'], as_index=False)['日期'].count()"
   ]
  },
  {
   "cell_type": "code",
   "execution_count": null,
   "id": "5a153822",
   "metadata": {},
   "outputs": [],
   "source": [
    "\n",
    "data_pivot =  pd.pivot(data_bj,\n",
    "                values='日期',\n",
    "                index='月份',\n",
    "                columns='天气')\n",
    "data_pivot = data_pivot.astype('float')\n",
    "# 按照 索引年月倒序排序\n",
    "data_pivot.sort_index(ascending=False,inplace=True)\n",
    "\n",
    "data_pivot"
   ]
  },
  {
   "cell_type": "markdown",
   "id": "d77bd9af",
   "metadata": {},
   "source": [
    "## 北上广深2022年10月份天气热力图分布"
   ]
  },
  {
   "cell_type": "code",
   "execution_count": null,
   "id": "7f04c547",
   "metadata": {},
   "outputs": [],
   "source": [
    "import matplotlib.pyplot as plt\n",
    "import matplotlib.colors as mcolors\n",
    "import seaborn as sns\n",
    "\n",
    "#设置全局默认字体 为 雅黑\n",
    "plt.rcParams['font.family'] = ['Microsoft YaHei'] \n",
    "# 设置全局轴标签字典大小\n",
    "plt.rcParams[\"axes.labelsize\"] = 14  \n",
    "# 设置背景\n",
    "sns.set_style(\"darkgrid\",{\"font.family\":['Microsoft YaHei', 'SimHei']})  \n",
    "# 设置画布长宽 和 dpi\n",
    "plt.figure(figsize=(18,8),dpi=100)\n",
    "# 自定义色卡\n",
    "cmap = mcolors.LinearSegmentedColormap.from_list(\"n\",['#95B359','#D3CF63','#E0991D','#D96161','#A257D0','#7B1216']) \n",
    "# 绘制热力图\n",
    "\n",
    "ax = sns.heatmap(data_pivot, cmap=cmap, vmax=30, \n",
    "                 annot=True, # 热力图上显示数值\n",
    "                 linewidths=0.5,\n",
    "                ) \n",
    "# 将x轴刻度放在最上面\n",
    "ax.xaxis.set_ticks_position('top')\n",
    "plt.xticks(rotation=-35,fontsize=8)\n",
    "plt.title('北京最近10个月天气分布',fontsize=16) #图片标题文本和字体大小\n",
    "plt.show()"
   ]
  },
  {
   "cell_type": "code",
   "execution_count": null,
   "id": "93cf4a3f",
   "metadata": {},
   "outputs": [],
   "source": [
    "data_gz= data[(data['年份'] == 2021) & (data['城市'] == '广州')]\n",
    "data_gz = data_gz.groupby(['月份','天气'], as_index=False)['日期'].count()\n",
    "data_sz= data[(data['年份'] == 2021) & (data['城市'] == '深圳')]\n",
    "data_sz = data_sz.groupby(['月份','天气'], as_index=False)['日期'].count()\n",
    "data_sh= data[(data['年份'] == 2021) & (data['城市'] == '上海')]\n",
    "data_sh = data_sh.groupby(['月份','天气'], as_index=False)['日期'].count()"
   ]
  },
  {
   "cell_type": "code",
   "execution_count": null,
   "id": "42ba5c0a",
   "metadata": {},
   "outputs": [],
   "source": [
    "data_pivot_sz =  pd.pivot(data_sz,\n",
    "                values='日期',\n",
    "                index='月份',\n",
    "                columns='天气')\n",
    "data_pivot_sz = data_pivot_sz.astype('float')\n",
    "# 按照 索引年月倒序排序\n",
    "data_pivot_sz.sort_index(ascending=False,inplace=True)\n",
    "\n",
    "#设置全局默认字体 为 雅黑\n",
    "plt.rcParams['font.family'] = ['Microsoft YaHei'] \n",
    "# 设置全局轴标签字典大小\n",
    "plt.rcParams[\"axes.labelsize\"] = 14  \n",
    "# 设置背景\n",
    "sns.set_style(\"darkgrid\",{\"font.family\":['Microsoft YaHei', 'SimHei']})  \n",
    "# 设置画布长宽 和 dpi\n",
    "plt.figure(figsize=(18,8),dpi=100)\n",
    "# 自定义色卡\n",
    "cmap = mcolors.LinearSegmentedColormap.from_list(\"n\",['#95B359','#D3CF63','#E0991D','#D96161','#A257D0','#7B1216']) \n",
    "# 绘制热力图\n",
    "\n",
    "ax_sz = sns.heatmap(data_pivot_sz, cmap=cmap, vmax=31, \n",
    "                 annot=True, # 热力图上显示数值\n",
    "                 linewidths=0.5,\n",
    "                ) \n",
    "# 将x轴刻度放在最上面\n",
    "ax_sz.xaxis.set_ticks_position('top') \n",
    "plt.xticks(rotation=-35,fontsize=8)\n",
    "plt.title('深圳最近10个月天气分布',fontsize=16) #图片标题文本和字体大小\n",
    "plt.show()"
   ]
  },
  {
   "cell_type": "code",
   "execution_count": null,
   "id": "27cd0548",
   "metadata": {},
   "outputs": [],
   "source": [
    "data_pivot_gz =  pd.pivot(data_gz,\n",
    "                values='日期',\n",
    "                index='月份',\n",
    "                columns='天气')\n",
    "data_pivot_gz = data_pivot_gz.astype('float')\n",
    "# 按照 索引年月倒序排序\n",
    "data_pivot_gz.sort_index(ascending=False,inplace=True)\n",
    "\n",
    "#设置全局默认字体 为 雅黑\n",
    "plt.rcParams['font.family'] = ['Microsoft YaHei'] \n",
    "# 设置全局轴标签字典大小\n",
    "plt.rcParams[\"axes.labelsize\"] = 14  \n",
    "# 设置背景\n",
    "sns.set_style(\"darkgrid\",{\"font.family\":['Microsoft YaHei', 'SimHei']})  \n",
    "# 设置画布长宽 和 dpi\n",
    "plt.figure(figsize=(18,8),dpi=100)\n",
    "# 自定义色卡\n",
    "cmap = mcolors.LinearSegmentedColormap.from_list(\"n\",['#95B359','#D3CF63','#E0991D','#D96161','#A257D0','#7B1216']) \n",
    "# 绘制热力图\n",
    "\n",
    "ax_sz = sns.heatmap(data_pivot_gz, cmap=cmap, vmax=31, \n",
    "                 annot=True, # 热力图上显示数值\n",
    "                 linewidths=0.5,\n",
    "                ) \n",
    "# 将x轴刻度放在最上面\n",
    "ax_sz.xaxis.set_ticks_position('top') \n",
    "plt.xticks(rotation=-35,fontsize=8)\n",
    "plt.title('广州最近10个月天气分布',fontsize=16) #图片标题文本和字体大小\n",
    "plt.show()"
   ]
  },
  {
   "cell_type": "code",
   "execution_count": null,
   "id": "ad9a4365",
   "metadata": {},
   "outputs": [],
   "source": [
    "data_pivot_sh =  pd.pivot(data_sh,\n",
    "                values='日期',\n",
    "                index='月份',\n",
    "                columns='天气')\n",
    "data_pivot_sh = data_pivot_sh.astype('float')\n",
    "# 按照 索引年月倒序排序\n",
    "data_pivot_sh.sort_index(ascending=False,inplace=True)\n",
    "\n",
    "#设置全局默认字体 为 雅黑\n",
    "plt.rcParams['font.family'] = ['Microsoft YaHei'] \n",
    "# 设置全局轴标签字典大小\n",
    "plt.rcParams[\"axes.labelsize\"] = 14  \n",
    "# 设置背景\n",
    "sns.set_style(\"darkgrid\",{\"font.family\":['Microsoft YaHei', 'SimHei']})  \n",
    "# 设置画布长宽 和 dpi\n",
    "plt.figure(figsize=(18,8),dpi=100)\n",
    "# 自定义色卡\n",
    "cmap = mcolors.LinearSegmentedColormap.from_list(\"n\",['#95B359','#D3CF63','#E0991D','#D96161','#A257D0','#7B1216']) \n",
    "# 绘制热力图\n",
    "\n",
    "ax_sz = sns.heatmap(data_pivot_sh, cmap=cmap, vmax=31, \n",
    "                 annot=True, # 热力图上显示数值\n",
    "                 linewidths=0.5,\n",
    "                ) \n",
    "# 将x轴刻度放在最上面\n",
    "ax_sz.xaxis.set_ticks_position('top') \n",
    "plt.xticks(rotation=-35,fontsize=8)\n",
    "plt.title('上海最近10个月天气分布',fontsize=16) #图片标题文本和字体大小\n",
    "plt.show()"
   ]
  },
  {
   "cell_type": "code",
   "execution_count": null,
   "id": "d831f76f",
   "metadata": {
    "scrolled": true
   },
   "outputs": [],
   "source": [
    "data_gz = data[(data['城市']=='广州') & (data['年份'] == 2022)]\n",
    "# data_gz['日期'] = pd.to_datetime(data_gz.日期,format=\"%Y年%m月%d日\")\n",
    "data_gz['日期']=data_gz['日期'].map(lambda x:pd.to_datetime(x,format=\"%Y年%m月%d日\"))\n",
    "data_gz = data_gz.sort_values(by='日期',ascending=True)"
   ]
  },
  {
   "cell_type": "markdown",
   "id": "e24368a7",
   "metadata": {},
   "source": [
    "## 广州2022年每日最高最低温度变化"
   ]
  },
  {
   "cell_type": "code",
   "execution_count": null,
   "id": "4fa5330f",
   "metadata": {},
   "outputs": [],
   "source": [
    "color0 = ['#FF76A2','#24ACE6']\n",
    "color_js0 = \"\"\"new echarts.graphic.LinearGradient(0, 1, 0, 0,\n",
    "    [{offset: 0, color: '#FFC0CB'}, {offset: 1, color: '#ed1941'}], false)\"\"\"\n",
    "color_js1 = \"\"\"new echarts.graphic.LinearGradient(0, 1, 0, 0,\n",
    "    [{offset: 0, color: '#FFFFFF'}, {offset: 1, color: '#009ad6'}], false)\"\"\"\n",
    "\n",
    "tl = Timeline()\n",
    "for i in range(0,len(data_gz)):\n",
    "    coordy_high = list(data_gz['最高温'])[i]\n",
    "    coordx = list(data_gz['日期'])[i]\n",
    "    coordy_low = list(data_gz['最低温'])[i]\n",
    "    x_max = list(data_gz['日期'])[i]+datetime.timedelta(days=10)\n",
    "    y_max = int(max(list(data_gz['最高温'])[0:i+1]))+3\n",
    "    y_min = int(min(list(data_gz['最低温'])[0:i+1]))-3\n",
    "    title_date = list(data_gz['日期'])[i].strftime('%Y-%m-%d')\n",
    "    c = (\n",
    "        Line(\n",
    "            init_opts=opts.InitOpts(\n",
    "            theme='dark',\n",
    "            #设置动画\n",
    "            animation_opts=opts.AnimationOpts(animation_delay_update=800),#(animation_delay=1000, animation_easing=\"elasticOut\"),\n",
    "            #设置宽度、高度\n",
    "            width='1500px',\n",
    "            height='900px', )\n",
    "        )\n",
    "        .add_xaxis(list(data_gz['日期'])[0:i])\n",
    "        .add_yaxis(\n",
    "            series_name=\"\",\n",
    "            y_axis=list(data_gz['最高温'])[0:i], is_smooth=True,is_symbol_show=False,\n",
    "            itemstyle_opts=opts.ItemStyleOpts(color=JsCode(color_js0)),\n",
    "\n",
    "        )\n",
    "        .add_yaxis(\n",
    "            series_name=\"\",\n",
    "            y_axis=list(data_gz['最低温'])[0:i], is_smooth=True,is_symbol_show=False,\n",
    "            itemstyle_opts=opts.ItemStyleOpts(color=JsCode(color_js1)),\n",
    "\n",
    "        )\n",
    "        .set_global_opts(\n",
    "            title_opts=opts.TitleOpts(\"广州2022年每日最高最低温度变化\\n\\n{}\".format(title_date),pos_left=330,padding=[30,20]),\n",
    "            xaxis_opts=opts.AxisOpts(type_=\"time\",max_=x_max),#, interval=10,min_=i-5,split_number=20,axistick_opts=opts.AxisTickOpts(length=2500),axisline_opts=opts.AxisLineOpts(linestyle_opts=opts.LineStyleOpts(color=\"grey\"))\n",
    "            yaxis_opts=opts.AxisOpts(min_=y_min,max_=y_max),#坐标轴颜色,axisline_opts=opts.AxisLineOpts(linestyle_opts=opts.LineStyleOpts(color=\"grey\"))\n",
    "        )\n",
    "    )\n",
    "    tl.add(c, \"{}\".format(list(data_gz['日期'])[i]))\n",
    "    tl.add_schema(\n",
    "        axis_type='time',\n",
    "        play_interval=100,  # 表示播放的速度\n",
    "        pos_bottom=\"-29px\",\n",
    "        is_loop_play=False, # 是否循环播放\n",
    "        width=\"780px\",\n",
    "        pos_left='30px',\n",
    "        is_auto_play=True,  # 是否自动播放。\n",
    "        is_timeline_show=False)\n",
    "tl.render_notebook()"
   ]
  },
  {
   "cell_type": "code",
   "execution_count": null,
   "id": "8cf5639f",
   "metadata": {},
   "outputs": [],
   "source": [
    "data_10 = data[(data['年份'] == 2022) & ( data['月份'] == 10)]\n",
    "data_10.head()"
   ]
  },
  {
   "cell_type": "markdown",
   "id": "41f0cf34",
   "metadata": {},
   "source": [
    "## 北上广深10月份每日最高气温变化"
   ]
  },
  {
   "cell_type": "code",
   "execution_count": null,
   "id": "91a870bd",
   "metadata": {},
   "outputs": [],
   "source": [
    "\n",
    "# 线条样式\n",
    "linestyle_dic = { 'normal': {\n",
    "                    'width': 4,  \n",
    "                    'shadowColor': '#696969', \n",
    "                    'shadowBlur': 10,  \n",
    "                    'shadowOffsetY': 10,  \n",
    "                    'shadowOffsetX': 10,  \n",
    "                    }\n",
    "                }\n",
    "    \n",
    "timeline = Timeline(init_opts=opts.InitOpts(width='980px',height='600px'))\n",
    "\n",
    "\n",
    "bj, gz, sh, sz= [], [], [], []\n",
    "all_max = []\n",
    "x_data = data_10[data_10['城市'] == '北京']['日'].tolist()\n",
    "for d_time in range(len(x_data)):\n",
    "    bj.append(data_10[(data_10['日'] == x_data[d_time]) & (data_10['城市']=='北京')][\"最高温\"].values.tolist()[0])\n",
    "    gz.append(data_10[(data_10['日'] == x_data[d_time]) & (data_10['城市']=='广州')][\"最高温\"].values.tolist()[0])\n",
    "    sh.append(data_10[(data_10['日'] == x_data[d_time]) & (data_10['城市']=='上海')][\"最高温\"].values.tolist()[0])\n",
    "    sz.append(data_10[(data_10['日'] == x_data[d_time]) & (data_10['城市']=='深圳')][\"最高温\"].values.tolist()[0])\n",
    "    \n",
    "    line = (\n",
    "        Line(init_opts=opts.InitOpts(width='980px',height='600px'))\n",
    "        .add_xaxis(\n",
    "            x_data,\n",
    "                  )\n",
    "        .add_yaxis(\n",
    "            '北京',\n",
    "            bj,\n",
    "            symbol_size=5,\n",
    "            is_smooth=True,\n",
    "            is_hover_animation=True,\n",
    "            label_opts=opts.LabelOpts(is_show=False),\n",
    "        )\n",
    "  \n",
    "        .add_yaxis(\n",
    "            '广州',\n",
    "            gz,\n",
    "            symbol_size=5,\n",
    "            is_smooth=True,\n",
    "            is_hover_animation=True,\n",
    "            label_opts=opts.LabelOpts(is_show=False),\n",
    "        )\n",
    " \n",
    "        .add_yaxis(\n",
    "            '上海',\n",
    "            sh,\n",
    "#             symbol_size=5,\n",
    "            is_smooth=True,\n",
    "#             is_hover_animation=True,\n",
    "            label_opts=opts.LabelOpts(is_show=False),\n",
    "            \n",
    "        )\n",
    " \n",
    "        .add_yaxis(\n",
    "            '深圳',\n",
    "            sz,\n",
    "            symbol_size=5,\n",
    "            is_smooth=True,\n",
    "            is_hover_animation=True,\n",
    "            label_opts=opts.LabelOpts(is_show=False),\n",
    "            \n",
    "        )\n",
    "        \n",
    "        .set_series_opts(linestyle_opts=linestyle_dic)\n",
    "        .set_global_opts(\n",
    "            title_opts=opts.TitleOpts(\n",
    "                title='北上广深10月份最高气温变化趋势',\n",
    "                pos_left='center',\n",
    "                pos_top='2%',\n",
    "                title_textstyle_opts=opts.TextStyleOpts(color='#DC143C', font_size=20)),\n",
    "            \n",
    "            tooltip_opts=opts.TooltipOpts(\n",
    "                trigger=\"axis\",\n",
    "                axis_pointer_type=\"cross\",\n",
    "                background_color=\"rgba(245, 245, 245, 0.8)\",\n",
    "                border_width=1,\n",
    "                border_color=\"#ccc\",\n",
    "                textstyle_opts=opts.TextStyleOpts(color=\"#000\"),\n",
    "        ),\n",
    "            xaxis_opts=opts.AxisOpts(\n",
    "                axislabel_opts=opts.LabelOpts(font_size=14, color='red'),\n",
    "                axisline_opts=opts.AxisLineOpts(is_show=True,\n",
    "                linestyle_opts=opts.LineStyleOpts(width=2, color='#DB7093')),\n",
    "#                 is_show = False\n",
    "            ),\n",
    "                \n",
    "            \n",
    "            yaxis_opts=opts.AxisOpts(\n",
    "                name='最高气温',            \n",
    "                is_scale=True,\n",
    "#                 min_= int(min([gz[d_time],sh[d_time],sz[d_time],bj[d_time]])) - 10,\n",
    "                max_= int(max([gz[d_time],sh[d_time],sz[d_time],bj[d_time]])) + 10,\n",
    "                name_textstyle_opts=opts.TextStyleOpts(font_size=16,font_weight='bold',color='#5470c6'),\n",
    "                axislabel_opts=opts.LabelOpts(font_size=13,color='#5470c6'),\n",
    "                splitline_opts=opts.SplitLineOpts(is_show=True, \n",
    "                                                  linestyle_opts=opts.LineStyleOpts(type_='dashed')),\n",
    "                axisline_opts=opts.AxisLineOpts(is_show=True,\n",
    "                                        linestyle_opts=opts.LineStyleOpts(width=2, color='#5470c6'))\n",
    "            ),\n",
    "            legend_opts=opts.LegendOpts(is_show=True, pos_right='1%', pos_top='2%',\n",
    "                                        legend_icon='roundRect',orient = 'vertical'),\n",
    "        ))\n",
    "    \n",
    "    timeline.add(line, '{}'.format(x_data[d_time]))\n",
    "\n",
    "timeline.add_schema(\n",
    "    play_interval=1000,          # 轮播速度\n",
    "    is_timeline_show=True,      # 是否显示 timeline 组件\n",
    "    is_auto_play=True,          # 是否自动播放\n",
    "    pos_left=\"0\",\n",
    "    pos_right=\"0\"\n",
    ")\n",
    "timeline.render_notebook()"
   ]
  },
  {
   "cell_type": "code",
   "execution_count": null,
   "id": "12900800",
   "metadata": {},
   "outputs": [],
   "source": []
  }
 ],
 "metadata": {
  "kernelspec": {
   "display_name": "Python 3 (ipykernel)",
   "language": "python",
   "name": "python3"
  },
  "language_info": {
   "codemirror_mode": {
    "name": "ipython",
    "version": 3
   },
   "file_extension": ".py",
   "mimetype": "text/x-python",
   "name": "python",
   "nbconvert_exporter": "python",
   "pygments_lexer": "ipython3",
   "version": "3.9.6"
  }
 },
 "nbformat": 4,
 "nbformat_minor": 5
}
